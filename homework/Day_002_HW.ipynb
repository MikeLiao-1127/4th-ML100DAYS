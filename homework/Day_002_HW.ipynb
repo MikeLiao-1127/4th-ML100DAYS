{
 "cells": [
  {
   "cell_type": "markdown",
   "metadata": {},
   "source": [
    "## [作業目標]\n",
    "了解機器學習適合應用的領域與範疇。"
   ]
  },
  {
   "cell_type": "markdown",
   "metadata": {},
   "source": [
    "## [作業重點]\n",
    "透過瞭解機器學習的運作方式，找出非常適用機器學習應用的領域及其原因"
   ]
  },
  {
   "cell_type": "markdown",
   "metadata": {},
   "source": [
    "## 作業\n",
    "請找出一個你認為機器學習可以發光發熱的領域並闡述原因? "
   ]
  },
  {
   "cell_type": "code",
   "execution_count": null,
   "metadata": {},
   "outputs": [],
   "source": [
    "我認為機器學習能發展的領域為商標的辨識系統開發，乃屬於影片辨識的範疇。\n",
    "目前為止，商標的辨識仍大多是靠人為的方式，進行辨識再依據辨識結果進而分類，形成商標的資料庫。\n",
    "然而，此作業模式相當耗時，非常沒有效率，如果有新的商標想進行審核，那麼可能需要花很長時間才能完成核准。\n",
    "而目前機器學習，能夠有效率地辨識出圖形的「特徵」，再利用這些特徵來進行分群化。\n",
    "雖說現在已存有針對商標辨識的系統，但對於「語義圖形」的辨識仍有很大的進步空間，甚至不只關乎技術問題，\n",
    "商標分群的分類標準仍需要各領域之專業而有所共識"
   ]
  }
 ],
 "metadata": {
  "kernelspec": {
   "display_name": "Python 3",
   "language": "python",
   "name": "python3"
  },
  "language_info": {
   "codemirror_mode": {
    "name": "ipython",
    "version": 3
   },
   "file_extension": ".py",
   "mimetype": "text/x-python",
   "name": "python",
   "nbconvert_exporter": "python",
   "pygments_lexer": "ipython3",
   "version": "3.7.3"
  }
 },
 "nbformat": 4,
 "nbformat_minor": 2
}
