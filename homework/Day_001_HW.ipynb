{
 "cells": [
  {
   "cell_type": "markdown",
   "metadata": {},
   "source": [
    "# 作業一"
   ]
  },
  {
   "cell_type": "code",
   "execution_count": null,
   "metadata": {},
   "outputs": [],
   "source": [
    "def mean_square_error(y, yp):\n",
    "    mse = MSE = sum((y - yp)**2) / len(y)\n",
    "    return mse"
   ]
  },
  {
   "cell_type": "markdown",
   "metadata": {},
   "source": [
    "# 作業二"
   ]
  },
  {
   "cell_type": "code",
   "execution_count": 3,
   "metadata": {},
   "outputs": [],
   "source": [
    "#我選擇的資料為Iris species，選自Kaggle的Dataset。\n",
    "#1.我認為此資料之所以重要，是因為此份資料透過資料分析，有效的為鳶尾花分為三大類別。\n",
    "#2.此項資料是來自於美國加州大學歐文分校的機器學習資料庫\n",
    "#3.此份資料我認為是結構性資料，\n",
    "#4.這份資料運用了四個構面來判斷，分別為SepalLengthCm、SepalWidthCm、PetalLengthCm、PetalWidthCm，\n",
    "    #進而來為鳶尾花來區分類別。而根據最後的資料分析、整理，得以觀察出同個類別的特徵（構面）都為相似，區分為\n",
    "    #三個類別，分別為setosa、versicolor、virginica。"
   ]
  },
  {
   "cell_type": "markdown",
   "metadata": {},
   "source": [
    "# 作業三"
   ]
  },
  {
   "cell_type": "code",
   "execution_count": null,
   "metadata": {},
   "outputs": [],
   "source": [
    "#1.我認為此核心為，如何讓車隊的空車時間降至最低，假設消費者的交通方式第一選擇為自由載客車隊。\n",
    "#2.要解決此問題，我認為資料應蒐集，消費者的行為數據，以分析何時為車隊之尖峰、離峰時間，\n",
    "    #並且需要消費者的地理位置，已佈置車隊車輛位置。\n",
    "#3.此份資料的型態我認為是非結構性資料。\n",
    "#4.因核心解決方式為將空車時間將至最低，因此需要衡量「車隊之車輛數量」、「時間」及「車輛分佈位置」的配合。\n",
    "    #若能讓空車時間降至最低，代表營收時間將拉致最長，以達營收最大化。"
   ]
  }
 ],
 "metadata": {
  "kernelspec": {
   "display_name": "Python 3",
   "language": "python",
   "name": "python3"
  },
  "language_info": {
   "codemirror_mode": {
    "name": "ipython",
    "version": 3
   },
   "file_extension": ".py",
   "mimetype": "text/x-python",
   "name": "python",
   "nbconvert_exporter": "python",
   "pygments_lexer": "ipython3",
   "version": "3.7.3"
  }
 },
 "nbformat": 4,
 "nbformat_minor": 2
}
